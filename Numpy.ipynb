{
  "nbformat": 4,
  "nbformat_minor": 0,
  "metadata": {
    "colab": {
      "name": "Numpy.ipynb",
      "provenance": [],
      "collapsed_sections": [],
      "authorship_tag": "ABX9TyN5maA+vQRWplM1wWrk8R13",
      "include_colab_link": true
    },
    "kernelspec": {
      "name": "python3",
      "display_name": "Python 3"
    },
    "language_info": {
      "name": "python"
    }
  },
  "cells": [
    {
      "cell_type": "markdown",
      "metadata": {
        "id": "view-in-github",
        "colab_type": "text"
      },
      "source": [
        "<a href=\"https://colab.research.google.com/github/AIJuand/AI/blob/main/Numpy.ipynb\" target=\"_parent\"><img src=\"https://colab.research.google.com/assets/colab-badge.svg\" alt=\"Open In Colab\"/></a>"
      ]
    },
    {
      "cell_type": "markdown",
      "source": [
        "# **Taller II de numpy**"
      ],
      "metadata": {
        "id": "razOhCt1u53l"
      }
    },
    {
      "cell_type": "markdown",
      "source": [
        "#¿Por qué usar arrays de numpy y no listas o tuplas de python?\n",
        "Aunque python base tiene listas, el usar arrays es más rápido y consume menos memoria. Algo altamente necesario cuando se hacen operaciones de gran tamaño como puede ser el algebra matricial, por ejemplo."
      ],
      "metadata": {
        "id": "E54skZY4sYeX"
      }
    },
    {
      "cell_type": "code",
      "execution_count": null,
      "metadata": {
        "id": "xt5brtiru4sf"
      },
      "outputs": [],
      "source": [
        "import numpy as np"
      ]
    },
    {
      "cell_type": "markdown",
      "source": [
        "#Creación básica de arrays\n",
        "Vamos a crear arrays de distintas dimensiones. Para esto podemos usar números, listas o tuplas."
      ],
      "metadata": {
        "id": "X-DLYSkmtezo"
      }
    },
    {
      "cell_type": "code",
      "source": [
        "#Utilizar np. para decir que es una funcion de la librería pandas\n",
        "a=np.array(13) #array de dimensión 0\n",
        "b=np.array([1,2,3,4]) #array de dimensión 1\n",
        "c=np.array([[1,2,3,4],[5,6,7,8]]) #array de dimensión 2\n",
        "d=np.array([[[1,2,3,4],[5,6,7,8]],[[9,10,11,12],[13,14,15,16]]]) #array de dimensión 3\n",
        "#Print se utiliza para imprimir resultados\n",
        "print(\"a =\",a,\"\\n\")\n",
        "print(\"b =\",b,\"\\n\")\n",
        "print(\"c =\",c,\"\\n\")\n",
        "print(\"d =\",d,\"\\n\")"
      ],
      "metadata": {
        "colab": {
          "base_uri": "https://localhost:8080/"
        },
        "id": "GpzqMjAvthkC",
        "outputId": "2c8ea161-fe8b-4913-fb32-44a14959c1e5"
      },
      "execution_count": null,
      "outputs": [
        {
          "output_type": "stream",
          "name": "stdout",
          "text": [
            "a = 13 \n",
            "\n",
            "b = [1 2 3 4] \n",
            "\n",
            "c = [[1 2 3 4]\n",
            " [5 6 7 8]] \n",
            "\n",
            "d = [[[ 1  2  3  4]\n",
            "  [ 5  6  7  8]]\n",
            "\n",
            " [[ 9 10 11 12]\n",
            "  [13 14 15 16]]] \n",
            "\n"
          ]
        }
      ]
    },
    {
      "cell_type": "code",
      "source": [
        "#Para revisar el número de dimensiones, usamos ndim\n",
        "print(a.ndim)\n",
        "print(b.ndim)\n",
        "print(c.ndim)\n",
        "print(d.ndim)"
      ],
      "metadata": {
        "colab": {
          "base_uri": "https://localhost:8080/"
        },
        "id": "oYDOnZh6vBkF",
        "outputId": "015c6967-e932-4e26-b578-36fd157f8e4c"
      },
      "execution_count": null,
      "outputs": [
        {
          "output_type": "stream",
          "name": "stdout",
          "text": [
            "0\n",
            "1\n",
            "2\n",
            "3\n"
          ]
        }
      ]
    },
    {
      "cell_type": "markdown",
      "source": [
        "#Indexación básica\n",
        "El proceso de indexación en numpy es similar al de las listas en python. Cada número implica buscar la posición en cada dimensión del array"
      ],
      "metadata": {
        "id": "vRddlEzsv-46"
      }
    },
    {
      "cell_type": "code",
      "source": [
        "print(\"a =\",a)\n",
        "print(\"b[2] = \",b[2])\n",
        "print(\"c[1] =\",c[1])\n",
        "print(\"d[1] =\",d[1])"
      ],
      "metadata": {
        "colab": {
          "base_uri": "https://localhost:8080/"
        },
        "id": "DEy7dwnHyoe_",
        "outputId": "cc658889-8bc1-4e2e-a557-384f78f84fef"
      },
      "execution_count": null,
      "outputs": [
        {
          "output_type": "stream",
          "name": "stdout",
          "text": [
            "a = 13\n",
            "b[2] =  3\n",
            "c[1] = [5 6 7 8]\n",
            "d[1] = [[ 9 10 11 12]\n",
            " [13 14 15 16]]\n"
          ]
        }
      ]
    },
    {
      "cell_type": "markdown",
      "source": [
        "Similarmente podemos segmentar arrays como en el las listas de python"
      ],
      "metadata": {
        "id": "8DN-Ssj2z1Bo"
      }
    },
    {
      "cell_type": "code",
      "source": [
        "print(b[2:4]) #b = [1 2 3 4] -> [3 4]\n",
        "print(c[1,1:3]) #c = [[1 2 3 4][5 6 7 8]] -> [6 7]"
      ],
      "metadata": {
        "colab": {
          "base_uri": "https://localhost:8080/"
        },
        "id": "WLsxBclPz2WN",
        "outputId": "1ae22ac3-cf1b-4d8b-baca-bcba19ed7995"
      },
      "execution_count": null,
      "outputs": [
        {
          "output_type": "stream",
          "name": "stdout",
          "text": [
            "[3 4]\n",
            "[6 7]\n"
          ]
        }
      ]
    },
    {
      "cell_type": "markdown",
      "source": [
        "#Diferentes tipos de datos en los arrays\n",
        "Los arrays no están limitados a números enteros, pueden también tener cadenas, booleanos, o de punto flotante.\n",
        "\n"
      ],
      "metadata": {
        "id": "N2iRV3y51NAw"
      }
    },
    {
      "cell_type": "code",
      "source": [
        "frutas = np.array(['Manzana', 'Naranja', 'Uva']) #cadenas\n",
        "print(frutas.dtype)\n"
      ],
      "metadata": {
        "colab": {
          "base_uri": "https://localhost:8080/"
        },
        "id": "JstvfGiE1PJf",
        "outputId": "4e23624a-76b7-4689-972a-dd5a64294467"
      },
      "execution_count": null,
      "outputs": [
        {
          "output_type": "stream",
          "name": "stdout",
          "text": [
            "<U7\n"
          ]
        }
      ]
    },
    {
      "cell_type": "markdown",
      "source": [
        "Podemos manipular el tipo de los datos del array dentro de la función de creación del array np.array, siempre y cuando el cambio sea posible. Por ejemplo podemos pasar enteros a cadenas (integers a strings) pero no viceversa."
      ],
      "metadata": {
        "id": "k23xqRPv5GWr"
      }
    },
    {
      "cell_type": "code",
      "source": [
        "number_to_string=np.array([6,1,2,4,623,8], dtype='S') #b denota un string\n",
        "print(number_to_string.dtype)\n",
        "print(number_to_string)"
      ],
      "metadata": {
        "colab": {
          "base_uri": "https://localhost:8080/"
        },
        "id": "PR3ocL-Y5J-L",
        "outputId": "8ebbb88b-3ae0-48c8-92e0-ae6f340661de"
      },
      "execution_count": null,
      "outputs": [
        {
          "output_type": "stream",
          "name": "stdout",
          "text": [
            "|S3\n",
            "[b'6' b'1' b'2' b'4' b'623' b'8']\n"
          ]
        }
      ]
    },
    {
      "cell_type": "code",
      "source": [
        "try:\n",
        "    error_array = np.array(['a', '2', '3'], dtype='i')\n",
        "except:\n",
        "    print(\"hay un error en su lógica\")"
      ],
      "metadata": {
        "colab": {
          "base_uri": "https://localhost:8080/"
        },
        "id": "L7YrqJ755fIm",
        "outputId": "f88a81d6-57bd-4df4-e30c-a49287333552"
      },
      "execution_count": null,
      "outputs": [
        {
          "output_type": "stream",
          "name": "stdout",
          "text": [
            "hay un error en su lógica\n"
          ]
        }
      ]
    },
    {
      "cell_type": "markdown",
      "source": [
        "Podemos también cambiar el tipo en arrays ya existentes"
      ],
      "metadata": {
        "id": "PksJk9TC-GZX"
      }
    },
    {
      "cell_type": "code",
      "source": [
        "floating_array = np.array([1.1, 2.1, 3.1]) #punto flotante\n",
        "\n",
        "int_array = floating_array.astype('i')\n",
        "print(int_array)\n",
        "print(floating_array)"
      ],
      "metadata": {
        "colab": {
          "base_uri": "https://localhost:8080/"
        },
        "id": "hZFJ5Vif-HNf",
        "outputId": "5f75ccfb-f3fb-4aec-d8c0-78131f07bcf0"
      },
      "execution_count": null,
      "outputs": [
        {
          "output_type": "stream",
          "name": "stdout",
          "text": [
            "[1 2 3]\n",
            "[1.1 2.1 3.1]\n"
          ]
        }
      ]
    },
    {
      "cell_type": "markdown",
      "source": [
        "#Forma de los arrays\n",
        "La forma es distinta a la dimensión. Esta se define como el número de elementos de la dimensión."
      ],
      "metadata": {
        "id": "fyLyP3ma-vTn"
      }
    },
    {
      "cell_type": "code",
      "source": [
        "print(a.shape) # a = 13 \n",
        "print(b.shape) # b = [1 2 3 4] \n",
        "print(c.shape) # c = [[1 2 3 4][5 6 7 8]] \n",
        "print(d.shape) # d = [[[ 1  2  3  4][ 5  6  7  8]] [[ 9 10 11 12][13 14 15 16]]] "
      ],
      "metadata": {
        "colab": {
          "base_uri": "https://localhost:8080/"
        },
        "id": "UHUqwoaf_J3w",
        "outputId": "993bb862-d9fc-4295-85c4-74bcf101c8f1"
      },
      "execution_count": null,
      "outputs": [
        {
          "output_type": "stream",
          "name": "stdout",
          "text": [
            "()\n",
            "(4,)\n",
            "(2, 4)\n",
            "(2, 2, 4)\n"
          ]
        }
      ]
    },
    {
      "cell_type": "markdown",
      "source": [
        "#Reformar arrays\n",
        "Podemos cambiar la forma de los arrays. Esto significa aumentar el número de dimensiones o cambiar cuantos elementos hay por dimensión."
      ],
      "metadata": {
        "id": "ewD2F6E9_edj"
      }
    },
    {
      "cell_type": "code",
      "source": [
        "print(\"c =\",c,\"\\n\")\n",
        "c_1D=c.reshape(1,8)\n",
        "print(\"c_1D =\",c_1D,\"\\n\")\n",
        "c_4D=c.reshape(4,2)\n",
        "print(\"c_4D =\",c_4D,\"\\n\")"
      ],
      "metadata": {
        "colab": {
          "base_uri": "https://localhost:8080/"
        },
        "id": "W8XAs3BP_s_y",
        "outputId": "54eb404d-ffe2-4e79-d679-1656a9beaa61"
      },
      "execution_count": null,
      "outputs": [
        {
          "output_type": "stream",
          "name": "stdout",
          "text": [
            "c = [[1 2 3 4]\n",
            " [5 6 7 8]] \n",
            "\n",
            "c_1D = [[1 2 3 4 5 6 7 8]] \n",
            "\n",
            "c_4D = [[1 2]\n",
            " [3 4]\n",
            " [5 6]\n",
            " [7 8]] \n",
            "\n"
          ]
        }
      ]
    },
    {
      "cell_type": "markdown",
      "source": [
        "¿Podemos hacer cualquier cambio en la forma? Si, mientras las que se quieren conseguir coincidan con la cantidad de elementos."
      ],
      "metadata": {
        "id": "yu-Nv9NCCMEZ"
      }
    },
    {
      "cell_type": "code",
      "source": [
        "print(d)"
      ],
      "metadata": {
        "colab": {
          "base_uri": "https://localhost:8080/"
        },
        "id": "bJeDGw8TCMyR",
        "outputId": "7cbabf21-9237-4d47-97b0-172fb790d5fd"
      },
      "execution_count": null,
      "outputs": [
        {
          "output_type": "stream",
          "name": "stdout",
          "text": [
            "[[[ 1  2  3  4]\n",
            "  [ 5  6  7  8]]\n",
            "\n",
            " [[ 9 10 11 12]\n",
            "  [13 14 15 16]]]\n"
          ]
        }
      ]
    },
    {
      "cell_type": "code",
      "source": [
        "d.reshape(2,2,2,2)"
      ],
      "metadata": {
        "colab": {
          "base_uri": "https://localhost:8080/"
        },
        "id": "ZppSrFoBCsKk",
        "outputId": "dadfdf05-0dd3-4da4-ee95-94fcc72230a1"
      },
      "execution_count": null,
      "outputs": [
        {
          "output_type": "execute_result",
          "data": {
            "text/plain": [
              "array([[[[ 1,  2],\n",
              "         [ 3,  4]],\n",
              "\n",
              "        [[ 5,  6],\n",
              "         [ 7,  8]]],\n",
              "\n",
              "\n",
              "       [[[ 9, 10],\n",
              "         [11, 12]],\n",
              "\n",
              "        [[13, 14],\n",
              "         [15, 16]]]])"
            ]
          },
          "metadata": {},
          "execution_count": 22
        }
      ]
    },
    {
      "cell_type": "markdown",
      "source": [
        "\n",
        "#Dimensión desconocida\n",
        "Podemos definir el cambio de forma con una dimensión la cual no sabemos el tamaño. Numpy se encargará de definir el tamaño que mejor se ajuste."
      ],
      "metadata": {
        "id": "TU1wH1x-CyZw"
      }
    },
    {
      "cell_type": "code",
      "source": [
        "arr = np.array([1, 2, 3, 4, 5, 6, 7, 8, 9])\n",
        "arr.reshape(3,-1)"
      ],
      "metadata": {
        "colab": {
          "base_uri": "https://localhost:8080/"
        },
        "id": "KCsEzcx4EwyO",
        "outputId": "65848b5d-c730-414b-bf72-bf5bd50f763e"
      },
      "execution_count": null,
      "outputs": [
        {
          "output_type": "execute_result",
          "data": {
            "text/plain": [
              "array([[1, 2, 3],\n",
              "       [4, 5, 6],\n",
              "       [7, 8, 9]])"
            ]
          },
          "metadata": {},
          "execution_count": 23
        }
      ]
    },
    {
      "cell_type": "markdown",
      "source": [
        "Podemos usar la dimensión desconocida para \"aplanar\" el array a una dimensión."
      ],
      "metadata": {
        "id": "xVfWMFrdGJfZ"
      }
    },
    {
      "cell_type": "code",
      "source": [
        "d.reshape(-1)\n"
      ],
      "metadata": {
        "colab": {
          "base_uri": "https://localhost:8080/"
        },
        "id": "qAXXKkK5GK_S",
        "outputId": "2d25aa18-478e-4d7a-b5bf-2b4d99e0d9b3"
      },
      "execution_count": null,
      "outputs": [
        {
          "output_type": "execute_result",
          "data": {
            "text/plain": [
              "array([ 1,  2,  3,  4,  5,  6,  7,  8,  9, 10, 11, 12, 13, 14, 15, 16])"
            ]
          },
          "metadata": {},
          "execution_count": 24
        }
      ]
    },
    {
      "cell_type": "markdown",
      "source": [
        "#Transpuesta\n",
        "Para transponer el array utilizamos .T"
      ],
      "metadata": {
        "id": "5cx_IeFLG_Wp"
      }
    },
    {
      "cell_type": "code",
      "source": [
        "print(\"c =\",c,\"\\n\")\n",
        "print(\"c.T =\",c.T)"
      ],
      "metadata": {
        "colab": {
          "base_uri": "https://localhost:8080/"
        },
        "id": "4dJ0wBooGO05",
        "outputId": "9cf6cd36-2ec3-4544-c83f-dab2b337a52d"
      },
      "execution_count": null,
      "outputs": [
        {
          "output_type": "stream",
          "name": "stdout",
          "text": [
            "c = [[1 2 3 4]\n",
            " [5 6 7 8]] \n",
            "\n",
            "c.T = [[1 5]\n",
            " [2 6]\n",
            " [3 7]\n",
            " [4 8]]\n"
          ]
        }
      ]
    },
    {
      "cell_type": "markdown",
      "source": [
        "#Iterar arrays\n",
        "Podemos usar los métodos tradicionales para iterar."
      ],
      "metadata": {
        "id": "kQ7MrpCgHkXp"
      }
    },
    {
      "cell_type": "code",
      "source": [
        "\n",
        "for x in d:\n",
        "    print(x)"
      ],
      "metadata": {
        "colab": {
          "base_uri": "https://localhost:8080/"
        },
        "id": "eQfpYPFWHpa6",
        "outputId": "dea72b66-3f51-433b-d78f-506be832991b"
      },
      "execution_count": null,
      "outputs": [
        {
          "output_type": "stream",
          "name": "stdout",
          "text": [
            "[[1 2 3 4]\n",
            " [5 6 7 8]]\n",
            "[[ 9 10 11 12]\n",
            " [13 14 15 16]]\n"
          ]
        }
      ]
    },
    {
      "cell_type": "markdown",
      "source": [
        "Si queremos iterar cada elemento, necesitamos un for por cada dimensión"
      ],
      "metadata": {
        "id": "JuWf6suIH39Q"
      }
    },
    {
      "cell_type": "code",
      "source": [
        "for x in d:\n",
        "    for y in x:\n",
        "        for z in y:\n",
        "            print(z)"
      ],
      "metadata": {
        "colab": {
          "base_uri": "https://localhost:8080/"
        },
        "id": "XTTvCUUaH4zS",
        "outputId": "8d344f0c-2530-47e9-9a62-190f442c3bf9"
      },
      "execution_count": null,
      "outputs": [
        {
          "output_type": "stream",
          "name": "stdout",
          "text": [
            "1\n",
            "2\n",
            "3\n",
            "4\n",
            "5\n",
            "6\n",
            "7\n",
            "8\n",
            "9\n",
            "10\n",
            "11\n",
            "12\n",
            "13\n",
            "14\n",
            "15\n",
            "16\n"
          ]
        }
      ]
    },
    {
      "cell_type": "markdown",
      "source": [
        "*OPTIMO*\n",
        "\n",
        "Esto por supuesto no es óptimo. Así que numpy tiene la función nditer() para estos casos."
      ],
      "metadata": {
        "id": "LyKK6SZ6IAT2"
      }
    },
    {
      "cell_type": "code",
      "source": [
        "for x in np.nditer(d):\n",
        "    print(x)"
      ],
      "metadata": {
        "colab": {
          "base_uri": "https://localhost:8080/"
        },
        "id": "-h5qPzV2IFeB",
        "outputId": "ad96d07c-2aa2-4399-cac1-773ac7f23a79"
      },
      "execution_count": null,
      "outputs": [
        {
          "output_type": "stream",
          "name": "stdout",
          "text": [
            "1\n",
            "2\n",
            "3\n",
            "4\n",
            "5\n",
            "6\n",
            "7\n",
            "8\n",
            "9\n",
            "10\n",
            "11\n",
            "12\n",
            "13\n",
            "14\n",
            "15\n",
            "16\n"
          ]
        }
      ]
    },
    {
      "cell_type": "markdown",
      "source": [
        "#Aplicar operaciones entre arrays\n",
        "numpy tiene sus propias formas de aplicar operaciones:"
      ],
      "metadata": {
        "id": "7CkIJmYuIRV8"
      }
    },
    {
      "cell_type": "markdown",
      "source": [
        "#Suma\n",
        "numpy tiene dos funciones, np.add() y np.sum(). El primero se aplica entre argumentos, el segundo se aplica en n elementos para que se haga la suma, es necesario que ambos arrays tengan la misma forma"
      ],
      "metadata": {
        "id": "B_fBVXmcIXiE"
      }
    },
    {
      "cell_type": "code",
      "source": [
        "arr1=np.array([[1,2,3],\n",
        "               [4,5,6]])\n",
        "arr2=np.array([[6,5,4],\n",
        "               [3,2,1]])\n",
        "np.add(arr1,arr2)"
      ],
      "metadata": {
        "colab": {
          "base_uri": "https://localhost:8080/"
        },
        "id": "klbCcBrnIVGL",
        "outputId": "3ef13890-1ada-46c8-b0fe-571186ac7e57"
      },
      "execution_count": null,
      "outputs": [
        {
          "output_type": "execute_result",
          "data": {
            "text/plain": [
              "array([[7, 7, 7],\n",
              "       [7, 7, 7]])"
            ]
          },
          "metadata": {},
          "execution_count": 29
        }
      ]
    },
    {
      "cell_type": "code",
      "source": [
        "arr3=np.array([[1,1,1],[1,1,1]])\n",
        "print(np.sum([arr1,arr2]))\n",
        "print(np.sum([arr1,arr2,arr3]))"
      ],
      "metadata": {
        "colab": {
          "base_uri": "https://localhost:8080/"
        },
        "id": "R2mxuyErJ5LT",
        "outputId": "f73ddd3d-cbe8-492a-ff05-7567a0b28b56"
      },
      "execution_count": null,
      "outputs": [
        {
          "output_type": "stream",
          "name": "stdout",
          "text": [
            "42\n",
            "48\n"
          ]
        }
      ]
    },
    {
      "cell_type": "markdown",
      "source": [
        "Si aplicamos un eje en np.sum(), se aplica la suma en ese mismo eje. Por ejemplo, con eje 0, se obtienen los mismos resultados que np.add()"
      ],
      "metadata": {
        "id": "4n4bRbwZJ8Br"
      }
    },
    {
      "cell_type": "code",
      "source": [
        "np.sum([arr1,arr2, arr3],axis=0)"
      ],
      "metadata": {
        "colab": {
          "base_uri": "https://localhost:8080/"
        },
        "id": "oBumWilUJ9Da",
        "outputId": "5fcb0e3e-4d62-4507-f209-4abbc9c1978c"
      },
      "execution_count": null,
      "outputs": [
        {
          "output_type": "execute_result",
          "data": {
            "text/plain": [
              "array([[8, 8, 8],\n",
              "       [8, 8, 8]])"
            ]
          },
          "metadata": {},
          "execution_count": 31
        }
      ]
    },
    {
      "cell_type": "code",
      "source": [
        "np.sum([arr1,arr2, arr3],axis=1)"
      ],
      "metadata": {
        "colab": {
          "base_uri": "https://localhost:8080/"
        },
        "id": "STLB_bEIKZSO",
        "outputId": "651aa365-1d1b-48dd-cd22-c027d3967bac"
      },
      "execution_count": null,
      "outputs": [
        {
          "output_type": "execute_result",
          "data": {
            "text/plain": [
              "array([[5, 7, 9],\n",
              "       [9, 7, 5],\n",
              "       [2, 2, 2]])"
            ]
          },
          "metadata": {},
          "execution_count": 32
        }
      ]
    },
    {
      "cell_type": "markdown",
      "source": [
        "#Multiplicación\n",
        "El primer caso de multiplicación es np.prod(), que funciona similar que np.sum()"
      ],
      "metadata": {
        "id": "gXvRw9D-LFM-"
      }
    },
    {
      "cell_type": "code",
      "source": [
        "print(\"arr1=\\n\",arr1,\"\\n\")\n",
        "print(\"arr2=\\n\",arr2,\"\\n\")\n",
        "print(np.prod([arr1,arr2]),\"\\n\")\n",
        "print(np.prod([arr1,arr2],axis=0),\"\\n\")\n",
        "print(np.prod([arr1,arr2],axis=1))#con uno es cruzado"
      ],
      "metadata": {
        "colab": {
          "base_uri": "https://localhost:8080/"
        },
        "id": "WLqFj_TcLHTx",
        "outputId": "84092140-f91f-412a-8550-ad79a3e6b213"
      },
      "execution_count": null,
      "outputs": [
        {
          "output_type": "stream",
          "name": "stdout",
          "text": [
            "arr1=\n",
            " [[1 2 3]\n",
            " [4 5 6]] \n",
            "\n",
            "arr2=\n",
            " [[6 5 4]\n",
            " [3 2 1]] \n",
            "\n",
            "518400 \n",
            "\n",
            "[[ 6 10 12]\n",
            " [12 10  6]] \n",
            "\n",
            "[[ 4 10 18]\n",
            " [18 10  4]]\n"
          ]
        }
      ]
    },
    {
      "cell_type": "markdown",
      "source": [
        "#Multiplicación Matricial\n",
        "Para la multiplicación de matrices usamos np.matmul() o np.dot(). hay que tener en cuenta la forma de las matrices"
      ],
      "metadata": {
        "id": "SsToe0G7Lrtj"
      }
    },
    {
      "cell_type": "code",
      "source": [
        "np.matmul(arr1, arr2.T)"
      ],
      "metadata": {
        "colab": {
          "base_uri": "https://localhost:8080/"
        },
        "id": "N6VN8xMeLu2E",
        "outputId": "f80361d3-3802-4258-d7d7-8df39a681204"
      },
      "execution_count": null,
      "outputs": [
        {
          "output_type": "execute_result",
          "data": {
            "text/plain": [
              "array([[28, 10],\n",
              "       [73, 28]])"
            ]
          },
          "metadata": {},
          "execution_count": 34
        }
      ]
    },
    {
      "cell_type": "code",
      "source": [
        "np.dot(arr1, arr2.T)"
      ],
      "metadata": {
        "colab": {
          "base_uri": "https://localhost:8080/"
        },
        "id": "wDJQncErLxxi",
        "outputId": "180191c3-cbd9-4b0d-8db6-51d154b3ad8e"
      },
      "execution_count": null,
      "outputs": [
        {
          "output_type": "execute_result",
          "data": {
            "text/plain": [
              "array([[28, 10],\n",
              "       [73, 28]])"
            ]
          },
          "metadata": {},
          "execution_count": 35
        }
      ]
    },
    {
      "cell_type": "markdown",
      "source": [
        "Se comportan distinto con matrices de dos dimensiones, para otros casos hacen cosas distintas"
      ],
      "metadata": {
        "id": "BnzB0QMfL4RY"
      }
    },
    {
      "cell_type": "code",
      "source": [
        "print(\"d =\\n\",d,\"\\n\") #2,2,4\n",
        "print(\"d.reshape =\\n\",d.reshape(2,4,2),\"\\n\") #2,4,2\n",
        "np.dot(d,d.reshape(2,4,2)) #2,2,2,2"
      ],
      "metadata": {
        "colab": {
          "base_uri": "https://localhost:8080/"
        },
        "id": "Ww6IM6CpMOpt",
        "outputId": "7e5af40e-6a66-423d-be70-f111e9405d50"
      },
      "execution_count": null,
      "outputs": [
        {
          "output_type": "stream",
          "name": "stdout",
          "text": [
            "d =\n",
            " [[[ 1  2  3  4]\n",
            "  [ 5  6  7  8]]\n",
            "\n",
            " [[ 9 10 11 12]\n",
            "  [13 14 15 16]]] \n",
            "\n",
            "d.reshape =\n",
            " [[[ 1  2]\n",
            "  [ 3  4]\n",
            "  [ 5  6]\n",
            "  [ 7  8]]\n",
            "\n",
            " [[ 9 10]\n",
            "  [11 12]\n",
            "  [13 14]\n",
            "  [15 16]]] \n",
            "\n"
          ]
        },
        {
          "output_type": "execute_result",
          "data": {
            "text/plain": [
              "array([[[[ 50,  60],\n",
              "         [130, 140]],\n",
              "\n",
              "        [[114, 140],\n",
              "         [322, 348]]],\n",
              "\n",
              "\n",
              "       [[[178, 220],\n",
              "         [514, 556]],\n",
              "\n",
              "        [[242, 300],\n",
              "         [706, 764]]]])"
            ]
          },
          "metadata": {},
          "execution_count": 36
        }
      ]
    },
    {
      "cell_type": "code",
      "source": [
        "#particion del anterior resultado\n",
        "print(np.dot(d[0],d.reshape(2,4,2)[0]),\"\\n\")\n",
        "print(np.dot(d[0],d.reshape(2,4,2)[1]),\"\\n\")\n",
        "print(np.dot(d[1],d.reshape(2,4,2)[0]),\"\\n\")\n",
        "print(np.dot(d[1],d.reshape(2,4,2)[1]),\"\\n\")"
      ],
      "metadata": {
        "colab": {
          "base_uri": "https://localhost:8080/"
        },
        "id": "ZNuw6Zg7NQtx",
        "outputId": "4baede6b-a321-4aef-eb4a-8302352ff057"
      },
      "execution_count": null,
      "outputs": [
        {
          "output_type": "stream",
          "name": "stdout",
          "text": [
            "[[ 50  60]\n",
            " [114 140]] \n",
            "\n",
            "[[130 140]\n",
            " [322 348]] \n",
            "\n",
            "[[178 220]\n",
            " [242 300]] \n",
            "\n",
            "[[514 556]\n",
            " [706 764]] \n",
            "\n"
          ]
        }
      ]
    },
    {
      "cell_type": "markdown",
      "source": [
        "Con matmul no se pueden multiplicar escalares c.A (c escalar, A matriz), además Matmul hace las multiplicaciones matriz a matriz (matrices como elementos), de ahí la diferencia con dot, donde este toma los números dentro de las matrices como elementos."
      ],
      "metadata": {
        "id": "Hdmn6VyZNhA-"
      }
    },
    {
      "cell_type": "code",
      "source": [
        "np.matmul(d,d.reshape(2,4,2))"
      ],
      "metadata": {
        "colab": {
          "base_uri": "https://localhost:8080/"
        },
        "id": "xe2JDRYNNjpc",
        "outputId": "d21c63d1-f8c6-416f-8001-c678d9bb0231"
      },
      "execution_count": null,
      "outputs": [
        {
          "output_type": "execute_result",
          "data": {
            "text/plain": [
              "array([[[ 50,  60],\n",
              "        [114, 140]],\n",
              "\n",
              "       [[514, 556],\n",
              "        [706, 764]]])"
            ]
          },
          "metadata": {},
          "execution_count": 38
        }
      ]
    },
    {
      "cell_type": "markdown",
      "source": [
        "Con la información vista en Computación estadistica se enrequisará el tema de numpy"
      ],
      "metadata": {
        "id": "XB41cUrfpaY1"
      }
    },
    {
      "cell_type": "markdown",
      "source": [
        "#Creación y modificación de variables\n",
        "Operadores aritméticos, lógicos, y de comparación"
      ],
      "metadata": {
        "id": "oTrZD6G2px3c"
      }
    },
    {
      "cell_type": "code",
      "source": [
        "import pandas as pd"
      ],
      "metadata": {
        "id": "KLTzlolvoyc2"
      },
      "execution_count": null,
      "outputs": []
    },
    {
      "cell_type": "code",
      "source": [
        "Municipios = pd.read_excel(\"Municipios.xlsx\",dtype={\"Irural\":np.float64,\"Dep\":str,\n",
        "                                                    \"Poblacion\":np.float64,\"Depmun\":str})"
      ],
      "metadata": {
        "id": "rxK9wHdKpPva"
      },
      "execution_count": null,
      "outputs": []
    },
    {
      "cell_type": "markdown",
      "source": [
        "Cuales variables del conjunto de datos Municipios tienen valores perdidos o missings?"
      ],
      "metadata": {
        "id": "08q7NELgqNiR"
      }
    },
    {
      "cell_type": "code",
      "source": [
        "def missings(x):\n",
        "            a = sum(x.isna())\n",
        "            b = 100*np.mean(x.isna()) # np.mean hace un promedio\n",
        "            c = pd.Series({\"Missings\": a,\"%Missings\": b})\n",
        "            return(c)"
      ],
      "metadata": {
        "id": "GbI3Zh1XqOKi"
      },
      "execution_count": null,
      "outputs": []
    },
    {
      "cell_type": "markdown",
      "source": [
        "Cálculo de algunas estadísticas descriptivas (personalizadas) para las variables numéricas en el conjunto de datos Municipios."
      ],
      "metadata": {
        "id": "dOQDsMuqryZr"
      }
    },
    {
      "cell_type": "code",
      "source": [
        "def summary(y,include='numeric'):\n",
        "    def numer(x):\n",
        "        x2 = x.dropna()\n",
        "        h = np.quantile(x2,0.25)\n",
        "        i = x2.median()\n",
        "        j = np.quantile(x2,0.75)\n",
        "        l = pd.Series({\"%25\":h,\"Median\":i,\"%75\":j,\"Max\":k})\n",
        "        return(l)"
      ],
      "metadata": {
        "id": "yKNTRMttrZM5"
      },
      "execution_count": null,
      "outputs": []
    },
    {
      "cell_type": "code",
      "source": [
        "Traza de una matriz\n",
        "La traza de una matriz cuadrada se calcula con el siguiente método:\n",
        "a.trace() : Devuelve la traza (suma de la diagonal principal) de la matriz cuadrada a."
      ],
      "metadata": {
        "id": "6AtMLCdFtFuc"
      },
      "execution_count": null,
      "outputs": []
    },
    {
      "cell_type": "code",
      "source": [
        "a = np.array([[1, 2, 3], [4, 5, 6], [7, 8, 9]])\n",
        "print(a.trace())"
      ],
      "metadata": {
        "colab": {
          "base_uri": "https://localhost:8080/"
        },
        "id": "x_ecnFactJyC",
        "outputId": "38417ad8-9ef9-4dc2-f2f7-aeecccf68022"
      },
      "execution_count": null,
      "outputs": [
        {
          "output_type": "stream",
          "name": "stdout",
          "text": [
            "15\n"
          ]
        }
      ]
    },
    {
      "cell_type": "markdown",
      "source": [
        "Determinante de una matriz\n",
        "El determinante de una matriz cuadrada se calcula con la siguiente función:\n",
        "\n",
        "det(a) : Devuelve el determinante de la matriz cuadrada a."
      ],
      "metadata": {
        "id": "T-We05l7tTXi"
      }
    },
    {
      "cell_type": "code",
      "source": [
        "a = np.array([[1, 2], [3, 4]])\n",
        "print(np.linalg.det(a))"
      ],
      "metadata": {
        "colab": {
          "base_uri": "https://localhost:8080/"
        },
        "id": "D2qguSuFtUPg",
        "outputId": "96e0279a-8817-41ab-8212-588c7f67d018"
      },
      "execution_count": null,
      "outputs": [
        {
          "output_type": "stream",
          "name": "stdout",
          "text": [
            "-2.0000000000000004\n"
          ]
        }
      ]
    },
    {
      "cell_type": "markdown",
      "source": [
        "Matriz inversa\n",
        "La inversa de una matriz se calcula con la siguiente función:\n",
        "\n",
        "inv(a) : Devuelve la matriz inversa de la matriz cuadrada a."
      ],
      "metadata": {
        "id": "WMJ1yB1atbUS"
      }
    },
    {
      "cell_type": "code",
      "source": [
        "a = np.array([[1, 2], [3, 4]])\n",
        "print(np.linalg.inv(a))"
      ],
      "metadata": {
        "colab": {
          "base_uri": "https://localhost:8080/"
        },
        "id": "V22tulhNtb4e",
        "outputId": "93e15ac9-32ce-4a91-f6e7-7e9588baaee7"
      },
      "execution_count": null,
      "outputs": [
        {
          "output_type": "stream",
          "name": "stdout",
          "text": [
            "[[-2.   1. ]\n",
            " [ 1.5 -0.5]]\n"
          ]
        }
      ]
    },
    {
      "cell_type": "markdown",
      "source": [
        "Autovalores de una matriz\n",
        "Los autovalores de una matriz cuadrada se calculan con la siguiente función:\n",
        "\n",
        "eigvals(a) : Devuelve los autovalores de la matriz cuadrada a."
      ],
      "metadata": {
        "id": "BwnNtabptgoq"
      }
    },
    {
      "cell_type": "code",
      "source": [
        " a = np.array([[1, 1, 0], [1, 2, 1], [0, 1, 1]])\n",
        "print(np.linalg.eigvals(a))"
      ],
      "metadata": {
        "colab": {
          "base_uri": "https://localhost:8080/"
        },
        "id": "UN6sVd4tthRL",
        "outputId": "99b0d9cb-31f9-4edd-e18f-15d4ed5b88ce"
      },
      "execution_count": null,
      "outputs": [
        {
          "output_type": "stream",
          "name": "stdout",
          "text": [
            "[ 3.00000000e+00  1.00000000e+00 -3.36770206e-17]\n"
          ]
        }
      ]
    },
    {
      "cell_type": "markdown",
      "source": [
        "Autovectores de una matriz\n",
        "Los autovectores de una matriz cuadrada se calculan con la siguiente función:\n",
        "\n",
        "eig(a) : Devuelve los autovalores y los autovectores asociados de la matriz cuadrada a."
      ],
      "metadata": {
        "id": "EqXoCi6ytmml"
      }
    },
    {
      "cell_type": "code",
      "source": [
        "a = np.array([[1, 1, 0], [1, 2, 1], [0, 1, 1]])\n",
        "print(np.linalg.eig(a))"
      ],
      "metadata": {
        "colab": {
          "base_uri": "https://localhost:8080/"
        },
        "id": "utFAd6qjtm8c",
        "outputId": "be392ad2-8775-4838-f307-97587dc3944f"
      },
      "execution_count": null,
      "outputs": [
        {
          "output_type": "stream",
          "name": "stdout",
          "text": [
            "(array([ 3.00000000e+00,  1.00000000e+00, -3.36770206e-17]), array([[-4.08248290e-01,  7.07106781e-01,  5.77350269e-01],\n",
            "       [-8.16496581e-01,  2.61239546e-16, -5.77350269e-01],\n",
            "       [-4.08248290e-01, -7.07106781e-01,  5.77350269e-01]]))\n"
          ]
        }
      ]
    },
    {
      "cell_type": "markdown",
      "source": [
        "Solución de un sistema de ecuaciones\n",
        "Para resolver un sistema de ecuaciones lineales se utiliza la función siguiente:\n",
        "\n",
        "solve(a, b) : Devuelve la solución del sistema de ecuaciones lineales con los coeficientes de la matriz a y los términos independientes de la matriz b."
      ],
      "metadata": {
        "id": "K09VvYqJt30i"
      }
    },
    {
      "cell_type": "code",
      "source": [
        "# Sistema de dos ecuaciones y dos incógnitas\n",
        "# x + 2y = 1\n",
        "# 3x + 5y = 2 \n",
        "a = np.array([[1, 2], [3, 5]])\n",
        "b = np.array([1, 2])\n",
        "print(np.linalg.solve(a, b))"
      ],
      "metadata": {
        "colab": {
          "base_uri": "https://localhost:8080/"
        },
        "id": "vKGIZJRbt45e",
        "outputId": "dc25be48-e58c-4eb3-b849-dc1eaf4d1852"
      },
      "execution_count": null,
      "outputs": [
        {
          "output_type": "stream",
          "name": "stdout",
          "text": [
            "[-1.  1.]\n"
          ]
        }
      ]
    },
    {
      "cell_type": "markdown",
      "source": [
        "Otras operaciones aritmeticas"
      ],
      "metadata": {
        "id": "F9oczADovM2I"
      }
    },
    {
      "cell_type": "code",
      "source": [
        "arr = np.arange(4)\n",
        "\n",
        "arr"
      ],
      "metadata": {
        "colab": {
          "base_uri": "https://localhost:8080/"
        },
        "id": "nhLsTQz2u422",
        "outputId": "cefb2e11-918b-428a-bba1-61edb95ac34c"
      },
      "execution_count": null,
      "outputs": [
        {
          "output_type": "execute_result",
          "data": {
            "text/plain": [
              "array([0, 1, 2, 3])"
            ]
          },
          "metadata": {},
          "execution_count": 23
        }
      ]
    },
    {
      "cell_type": "code",
      "source": [
        "np.sqrt(arr) #Puedes calcular la raíz cuadrada de cada elemento\n"
      ],
      "metadata": {
        "colab": {
          "base_uri": "https://localhost:8080/"
        },
        "id": "BQNL89g8u8la",
        "outputId": "61291754-1b13-4546-85c9-a0b62645ed7f"
      },
      "execution_count": null,
      "outputs": [
        {
          "output_type": "execute_result",
          "data": {
            "text/plain": [
              "array([0.        , 1.        , 1.41421356, 1.73205081])"
            ]
          },
          "metadata": {},
          "execution_count": 29
        }
      ]
    },
    {
      "cell_type": "code",
      "source": [
        "np.exp(arr) #Devuelve e ^ elemento para cada elemento del arreglo\n",
        "\n"
      ],
      "metadata": {
        "colab": {
          "base_uri": "https://localhost:8080/"
        },
        "id": "ZoVucdPav3fw",
        "outputId": "1df81d3f-d863-498f-cc87-92c6b2a533a9"
      },
      "execution_count": null,
      "outputs": [
        {
          "output_type": "execute_result",
          "data": {
            "text/plain": [
              "array([ 1.        ,  2.71828183,  7.3890561 , 20.08553692])"
            ]
          },
          "metadata": {},
          "execution_count": 31
        }
      ]
    },
    {
      "cell_type": "code",
      "source": [
        "np.sin(arr) #Calcula el seno trigonométrico de cada valor en el arreglo\n"
      ],
      "metadata": {
        "colab": {
          "base_uri": "https://localhost:8080/"
        },
        "id": "okHtqCKwv5ev",
        "outputId": "56fdd89d-7f1b-48bf-9561-a600580916ea"
      },
      "execution_count": null,
      "outputs": [
        {
          "output_type": "execute_result",
          "data": {
            "text/plain": [
              "array([0.        , 0.84147098, 0.90929743, 0.14112001])"
            ]
          },
          "metadata": {},
          "execution_count": 32
        }
      ]
    },
    {
      "cell_type": "code",
      "source": [
        "\n",
        "np.cos(arr) #Calcula el coseno trigonométrico de cada valor en el arreglo\n",
        "\n"
      ],
      "metadata": {
        "colab": {
          "base_uri": "https://localhost:8080/"
        },
        "id": "p0FtQ_1Zv7xr",
        "outputId": "61e8647d-b18d-45af-fbcb-070191959866"
      },
      "execution_count": null,
      "outputs": [
        {
          "output_type": "execute_result",
          "data": {
            "text/plain": [
              "array([ 1.        ,  0.54030231, -0.41614684, -0.9899925 ])"
            ]
          },
          "metadata": {},
          "execution_count": 33
        }
      ]
    },
    {
      "cell_type": "code",
      "source": [
        "np.log(arr) #Calcula el logaritmo en base diez de cada valor en el arreglo"
      ],
      "metadata": {
        "colab": {
          "base_uri": "https://localhost:8080/"
        },
        "id": "TuZxKRKnv9Qe",
        "outputId": "94828e97-9041-4d1b-8eeb-fd4ec6869d0a"
      },
      "execution_count": null,
      "outputs": [
        {
          "output_type": "stream",
          "name": "stderr",
          "text": [
            "/usr/local/lib/python3.7/dist-packages/ipykernel_launcher.py:1: RuntimeWarning: divide by zero encountered in log\n",
            "  \"\"\"Entry point for launching an IPython kernel.\n"
          ]
        },
        {
          "output_type": "execute_result",
          "data": {
            "text/plain": [
              "array([      -inf, 0.        , 0.69314718, 1.09861229])"
            ]
          },
          "metadata": {},
          "execution_count": 34
        }
      ]
    },
    {
      "cell_type": "code",
      "source": [
        "arr = np.random.rand(5) #aleatorios\n",
        "arr"
      ],
      "metadata": {
        "colab": {
          "base_uri": "https://localhost:8080/"
        },
        "id": "e8DIkwROwInV",
        "outputId": "44d28239-f0e3-4a7b-bccf-81d29767d102"
      },
      "execution_count": null,
      "outputs": [
        {
          "output_type": "execute_result",
          "data": {
            "text/plain": [
              "array([0.49151775, 0.26985919, 0.542855  , 0.27551044, 0.75950114])"
            ]
          },
          "metadata": {},
          "execution_count": 39
        }
      ]
    },
    {
      "cell_type": "markdown",
      "source": [
        "redondear cada elemento a 2 decimales usando el método round de NumPy:"
      ],
      "metadata": {
        "id": "SeqJbLOqwQVb"
      }
    },
    {
      "cell_type": "code",
      "source": [
        "arr = np.round(arr, 2)\n",
        "arr"
      ],
      "metadata": {
        "colab": {
          "base_uri": "https://localhost:8080/"
        },
        "id": "qhYmlz2xwTMJ",
        "outputId": "3fe8ed5a-d001-4bf8-8bf2-28477962317d"
      },
      "execution_count": null,
      "outputs": [
        {
          "output_type": "execute_result",
          "data": {
            "text/plain": [
              "array([0.17, 0.8 , 0.99, 0.14, 0.54])"
            ]
          },
          "metadata": {},
          "execution_count": 38
        }
      ]
    }
  ]
}